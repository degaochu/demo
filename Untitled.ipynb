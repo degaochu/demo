{
 "cells": [
  {
   "cell_type": "code",
   "execution_count": null,
   "id": "33cacd17-03a5-4d9a-abc1-d8b46ff13eda",
   "metadata": {},
   "outputs": [],
   "source": [
    "from autogluon.tabular import TabularDataset, TabularPredictor\n",
    "from sklearn.model_selection import train_test_split\n",
    "import pandas as pd\n",
    "import logging\n",
    "import json\n",
    "\n",
    "model_path\n",
    "\n",
    "def predict(data):\n",
    "    test_data = pd.DataFrame(data)\n",
    "    label = 'value'\n",
    "    predictor = TabularPredictor.load(\"aqi_model\")\n",
    "    \n",
    "    y_pred = predictor.predict(test_data.drop(columns=[label]))\n",
    "    print(y_pred)\n",
    "    return json.dumps(y_pred.values.tolist())\n",
    "\n",
    "from flask import Flask, request, jsonify\n",
    "app = Flask(__name__)\n",
    "\n",
    "@app.route('/predict', methods=['POST'])\n",
    "def flask_predict():\n",
    "    data = request.json\n",
    "    \n",
    "    try:\n",
    "        predictions = predict(data)\n",
    "        logging.info(predictions)\n",
    "        return jsonify(predictions)\n",
    "    except Exception as e:\n",
    "        return jsonify({\"error\": str(e)}), 500\n",
    "\n",
    "#if __name__ == '__main__':\n",
    "#    app.run(debug=True)"
   ]
  }
 ],
 "metadata": {
  "kernelspec": {
   "display_name": "Python 3 (ipykernel)",
   "language": "python",
   "name": "python3"
  },
  "language_info": {
   "codemirror_mode": {
    "name": "ipython",
    "version": 3
   },
   "file_extension": ".py",
   "mimetype": "text/x-python",
   "name": "python",
   "nbconvert_exporter": "python",
   "pygments_lexer": "ipython3",
   "version": "3.11.8"
  }
 },
 "nbformat": 4,
 "nbformat_minor": 5
}
